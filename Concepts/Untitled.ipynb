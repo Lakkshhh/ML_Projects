{
 "cells": [
  {
   "cell_type": "markdown",
   "id": "ecc5e0a1",
   "metadata": {},
   "source": [
    "# Hyperparameter Tuning\n",
    "1) It is technique that facilitates drawing the best estimators out of a combination of different estimators put together.<br>\n",
    "2) It is used to tune model parameters to get better results(better accuracy, better R2Score) from the model.<br>\n",
    "3) It can be implemented using the following two methods:\n",
    "\n",
    "## 1) GridSearchCV\n",
    "1) It takes into account all the permutations and combinations of the parameters and then returns the set of parameters that best optimizes the result.<br>\n",
    "2) It takes a lot of time\n",
    "\n",
    "## 2) RandomizedSearchCV\n",
    "1) It takes into consideration few randomly selected combinations of parameters and then returns the set of parameters that best optimizes the result.<br>\n",
    "2) It is comparitively faster than GridSearchCV"
   ]
  }
 ],
 "metadata": {
  "kernelspec": {
   "display_name": "Python 3 (ipykernel)",
   "language": "python",
   "name": "python3"
  },
  "language_info": {
   "codemirror_mode": {
    "name": "ipython",
    "version": 3
   },
   "file_extension": ".py",
   "mimetype": "text/x-python",
   "name": "python",
   "nbconvert_exporter": "python",
   "pygments_lexer": "ipython3",
   "version": "3.9.12"
  }
 },
 "nbformat": 4,
 "nbformat_minor": 5
}
