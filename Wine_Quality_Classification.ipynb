{
 "cells": [
  {
   "cell_type": "code",
   "execution_count": 50,
   "id": "3f94bb5a",
   "metadata": {},
   "outputs": [],
   "source": [
    "import pandas as pd\n",
    "import numpy as np \n",
    "import matplotlib.pyplot as plt"
   ]
  },
  {
   "cell_type": "code",
   "execution_count": 51,
   "id": "88ad4882",
   "metadata": {},
   "outputs": [
    {
     "data": {
      "text/html": [
       "<div>\n",
       "<style scoped>\n",
       "    .dataframe tbody tr th:only-of-type {\n",
       "        vertical-align: middle;\n",
       "    }\n",
       "\n",
       "    .dataframe tbody tr th {\n",
       "        vertical-align: top;\n",
       "    }\n",
       "\n",
       "    .dataframe thead th {\n",
       "        text-align: right;\n",
       "    }\n",
       "</style>\n",
       "<table border=\"1\" class=\"dataframe\">\n",
       "  <thead>\n",
       "    <tr style=\"text-align: right;\">\n",
       "      <th></th>\n",
       "      <th>fixed acidity</th>\n",
       "      <th>volatile acidity</th>\n",
       "      <th>citric acid</th>\n",
       "      <th>residual sugar</th>\n",
       "      <th>chlorides</th>\n",
       "      <th>free sulfur dioxide</th>\n",
       "      <th>total sulfur dioxide</th>\n",
       "      <th>density</th>\n",
       "      <th>pH</th>\n",
       "      <th>sulphates</th>\n",
       "      <th>alcohol</th>\n",
       "      <th>quality</th>\n",
       "    </tr>\n",
       "  </thead>\n",
       "  <tbody>\n",
       "    <tr>\n",
       "      <th>0</th>\n",
       "      <td>7.4</td>\n",
       "      <td>0.70</td>\n",
       "      <td>0.00</td>\n",
       "      <td>1.9</td>\n",
       "      <td>0.076</td>\n",
       "      <td>11.0</td>\n",
       "      <td>34.0</td>\n",
       "      <td>0.9978</td>\n",
       "      <td>3.51</td>\n",
       "      <td>0.56</td>\n",
       "      <td>9.4</td>\n",
       "      <td>5</td>\n",
       "    </tr>\n",
       "    <tr>\n",
       "      <th>1</th>\n",
       "      <td>7.8</td>\n",
       "      <td>0.88</td>\n",
       "      <td>0.00</td>\n",
       "      <td>2.6</td>\n",
       "      <td>0.098</td>\n",
       "      <td>25.0</td>\n",
       "      <td>67.0</td>\n",
       "      <td>0.9968</td>\n",
       "      <td>3.20</td>\n",
       "      <td>0.68</td>\n",
       "      <td>9.8</td>\n",
       "      <td>5</td>\n",
       "    </tr>\n",
       "    <tr>\n",
       "      <th>2</th>\n",
       "      <td>7.8</td>\n",
       "      <td>0.76</td>\n",
       "      <td>0.04</td>\n",
       "      <td>2.3</td>\n",
       "      <td>0.092</td>\n",
       "      <td>15.0</td>\n",
       "      <td>54.0</td>\n",
       "      <td>0.9970</td>\n",
       "      <td>3.26</td>\n",
       "      <td>0.65</td>\n",
       "      <td>9.8</td>\n",
       "      <td>5</td>\n",
       "    </tr>\n",
       "    <tr>\n",
       "      <th>3</th>\n",
       "      <td>11.2</td>\n",
       "      <td>0.28</td>\n",
       "      <td>0.56</td>\n",
       "      <td>1.9</td>\n",
       "      <td>0.075</td>\n",
       "      <td>17.0</td>\n",
       "      <td>60.0</td>\n",
       "      <td>0.9980</td>\n",
       "      <td>3.16</td>\n",
       "      <td>0.58</td>\n",
       "      <td>9.8</td>\n",
       "      <td>6</td>\n",
       "    </tr>\n",
       "    <tr>\n",
       "      <th>4</th>\n",
       "      <td>7.4</td>\n",
       "      <td>0.70</td>\n",
       "      <td>0.00</td>\n",
       "      <td>1.9</td>\n",
       "      <td>0.076</td>\n",
       "      <td>11.0</td>\n",
       "      <td>34.0</td>\n",
       "      <td>0.9978</td>\n",
       "      <td>3.51</td>\n",
       "      <td>0.56</td>\n",
       "      <td>9.4</td>\n",
       "      <td>5</td>\n",
       "    </tr>\n",
       "  </tbody>\n",
       "</table>\n",
       "</div>"
      ],
      "text/plain": [
       "   fixed acidity  volatile acidity  citric acid  residual sugar  chlorides  \\\n",
       "0            7.4              0.70         0.00             1.9      0.076   \n",
       "1            7.8              0.88         0.00             2.6      0.098   \n",
       "2            7.8              0.76         0.04             2.3      0.092   \n",
       "3           11.2              0.28         0.56             1.9      0.075   \n",
       "4            7.4              0.70         0.00             1.9      0.076   \n",
       "\n",
       "   free sulfur dioxide  total sulfur dioxide  density    pH  sulphates  \\\n",
       "0                 11.0                  34.0   0.9978  3.51       0.56   \n",
       "1                 25.0                  67.0   0.9968  3.20       0.68   \n",
       "2                 15.0                  54.0   0.9970  3.26       0.65   \n",
       "3                 17.0                  60.0   0.9980  3.16       0.58   \n",
       "4                 11.0                  34.0   0.9978  3.51       0.56   \n",
       "\n",
       "   alcohol  quality  \n",
       "0      9.4        5  \n",
       "1      9.8        5  \n",
       "2      9.8        5  \n",
       "3      9.8        6  \n",
       "4      9.4        5  "
      ]
     },
     "execution_count": 51,
     "metadata": {},
     "output_type": "execute_result"
    }
   ],
   "source": [
    "df = pd.read_csv('winequality-red.csv')\n",
    "df.head()"
   ]
  },
  {
   "cell_type": "code",
   "execution_count": 52,
   "id": "c7e7d414",
   "metadata": {},
   "outputs": [
    {
     "data": {
      "text/plain": [
       "(1599, 12)"
      ]
     },
     "execution_count": 52,
     "metadata": {},
     "output_type": "execute_result"
    }
   ],
   "source": [
    "df.shape"
   ]
  },
  {
   "cell_type": "code",
   "execution_count": 53,
   "id": "4c577989",
   "metadata": {},
   "outputs": [
    {
     "data": {
      "text/plain": [
       "fixed acidity           0\n",
       "volatile acidity        0\n",
       "citric acid             0\n",
       "residual sugar          0\n",
       "chlorides               0\n",
       "free sulfur dioxide     0\n",
       "total sulfur dioxide    0\n",
       "density                 0\n",
       "pH                      0\n",
       "sulphates               0\n",
       "alcohol                 0\n",
       "quality                 0\n",
       "dtype: int64"
      ]
     },
     "execution_count": 53,
     "metadata": {},
     "output_type": "execute_result"
    }
   ],
   "source": [
    "df.isnull().sum()"
   ]
  },
  {
   "cell_type": "code",
   "execution_count": 54,
   "id": "e894e36d",
   "metadata": {},
   "outputs": [
    {
     "data": {
      "text/plain": [
       "fixed acidity           float64\n",
       "volatile acidity        float64\n",
       "citric acid             float64\n",
       "residual sugar          float64\n",
       "chlorides               float64\n",
       "free sulfur dioxide     float64\n",
       "total sulfur dioxide    float64\n",
       "density                 float64\n",
       "pH                      float64\n",
       "sulphates               float64\n",
       "alcohol                 float64\n",
       "quality                   int64\n",
       "dtype: object"
      ]
     },
     "execution_count": 54,
     "metadata": {},
     "output_type": "execute_result"
    }
   ],
   "source": [
    "df.dtypes"
   ]
  },
  {
   "cell_type": "code",
   "execution_count": 55,
   "id": "cb5eed69",
   "metadata": {},
   "outputs": [
    {
     "data": {
      "text/plain": [
       "5    681\n",
       "6    638\n",
       "7    199\n",
       "4     53\n",
       "8     18\n",
       "3     10\n",
       "Name: quality, dtype: int64"
      ]
     },
     "execution_count": 55,
     "metadata": {},
     "output_type": "execute_result"
    }
   ],
   "source": [
    "df['quality'].value_counts()"
   ]
  },
  {
   "cell_type": "code",
   "execution_count": 56,
   "id": "fd0e11a0",
   "metadata": {},
   "outputs": [
    {
     "name": "stdout",
     "output_type": "stream",
     "text": [
      "(1599, 11)\n",
      "(1599,)\n",
      "<class 'pandas.core.frame.DataFrame'>\n",
      "<class 'pandas.core.series.Series'>\n"
     ]
    }
   ],
   "source": [
    "x = df.iloc[:,:-1]\n",
    "y = df.iloc[:,-1]\n",
    "print(x.shape)\n",
    "print(y.shape)\n",
    "print(type(x))\n",
    "print(type(y))"
   ]
  },
  {
   "cell_type": "code",
   "execution_count": 57,
   "id": "8b9b50c0",
   "metadata": {},
   "outputs": [
    {
     "data": {
      "text/html": [
       "<div>\n",
       "<style scoped>\n",
       "    .dataframe tbody tr th:only-of-type {\n",
       "        vertical-align: middle;\n",
       "    }\n",
       "\n",
       "    .dataframe tbody tr th {\n",
       "        vertical-align: top;\n",
       "    }\n",
       "\n",
       "    .dataframe thead th {\n",
       "        text-align: right;\n",
       "    }\n",
       "</style>\n",
       "<table border=\"1\" class=\"dataframe\">\n",
       "  <thead>\n",
       "    <tr style=\"text-align: right;\">\n",
       "      <th></th>\n",
       "      <th>fixed acidity</th>\n",
       "      <th>volatile acidity</th>\n",
       "      <th>citric acid</th>\n",
       "      <th>residual sugar</th>\n",
       "      <th>chlorides</th>\n",
       "      <th>free sulfur dioxide</th>\n",
       "      <th>total sulfur dioxide</th>\n",
       "      <th>density</th>\n",
       "      <th>pH</th>\n",
       "      <th>sulphates</th>\n",
       "      <th>alcohol</th>\n",
       "    </tr>\n",
       "  </thead>\n",
       "  <tbody>\n",
       "    <tr>\n",
       "      <th>0</th>\n",
       "      <td>7.4</td>\n",
       "      <td>0.70</td>\n",
       "      <td>0.00</td>\n",
       "      <td>1.9</td>\n",
       "      <td>0.076</td>\n",
       "      <td>11.0</td>\n",
       "      <td>34.0</td>\n",
       "      <td>0.9978</td>\n",
       "      <td>3.51</td>\n",
       "      <td>0.56</td>\n",
       "      <td>9.4</td>\n",
       "    </tr>\n",
       "    <tr>\n",
       "      <th>1</th>\n",
       "      <td>7.8</td>\n",
       "      <td>0.88</td>\n",
       "      <td>0.00</td>\n",
       "      <td>2.6</td>\n",
       "      <td>0.098</td>\n",
       "      <td>25.0</td>\n",
       "      <td>67.0</td>\n",
       "      <td>0.9968</td>\n",
       "      <td>3.20</td>\n",
       "      <td>0.68</td>\n",
       "      <td>9.8</td>\n",
       "    </tr>\n",
       "    <tr>\n",
       "      <th>2</th>\n",
       "      <td>7.8</td>\n",
       "      <td>0.76</td>\n",
       "      <td>0.04</td>\n",
       "      <td>2.3</td>\n",
       "      <td>0.092</td>\n",
       "      <td>15.0</td>\n",
       "      <td>54.0</td>\n",
       "      <td>0.9970</td>\n",
       "      <td>3.26</td>\n",
       "      <td>0.65</td>\n",
       "      <td>9.8</td>\n",
       "    </tr>\n",
       "    <tr>\n",
       "      <th>3</th>\n",
       "      <td>11.2</td>\n",
       "      <td>0.28</td>\n",
       "      <td>0.56</td>\n",
       "      <td>1.9</td>\n",
       "      <td>0.075</td>\n",
       "      <td>17.0</td>\n",
       "      <td>60.0</td>\n",
       "      <td>0.9980</td>\n",
       "      <td>3.16</td>\n",
       "      <td>0.58</td>\n",
       "      <td>9.8</td>\n",
       "    </tr>\n",
       "    <tr>\n",
       "      <th>4</th>\n",
       "      <td>7.4</td>\n",
       "      <td>0.70</td>\n",
       "      <td>0.00</td>\n",
       "      <td>1.9</td>\n",
       "      <td>0.076</td>\n",
       "      <td>11.0</td>\n",
       "      <td>34.0</td>\n",
       "      <td>0.9978</td>\n",
       "      <td>3.51</td>\n",
       "      <td>0.56</td>\n",
       "      <td>9.4</td>\n",
       "    </tr>\n",
       "  </tbody>\n",
       "</table>\n",
       "</div>"
      ],
      "text/plain": [
       "   fixed acidity  volatile acidity  citric acid  residual sugar  chlorides  \\\n",
       "0            7.4              0.70         0.00             1.9      0.076   \n",
       "1            7.8              0.88         0.00             2.6      0.098   \n",
       "2            7.8              0.76         0.04             2.3      0.092   \n",
       "3           11.2              0.28         0.56             1.9      0.075   \n",
       "4            7.4              0.70         0.00             1.9      0.076   \n",
       "\n",
       "   free sulfur dioxide  total sulfur dioxide  density    pH  sulphates  \\\n",
       "0                 11.0                  34.0   0.9978  3.51       0.56   \n",
       "1                 25.0                  67.0   0.9968  3.20       0.68   \n",
       "2                 15.0                  54.0   0.9970  3.26       0.65   \n",
       "3                 17.0                  60.0   0.9980  3.16       0.58   \n",
       "4                 11.0                  34.0   0.9978  3.51       0.56   \n",
       "\n",
       "   alcohol  \n",
       "0      9.4  \n",
       "1      9.8  \n",
       "2      9.8  \n",
       "3      9.8  \n",
       "4      9.4  "
      ]
     },
     "execution_count": 57,
     "metadata": {},
     "output_type": "execute_result"
    }
   ],
   "source": [
    "x.head()"
   ]
  },
  {
   "cell_type": "code",
   "execution_count": 58,
   "id": "bfbd8a54",
   "metadata": {},
   "outputs": [
    {
     "data": {
      "text/plain": [
       "0    5\n",
       "1    5\n",
       "2    5\n",
       "3    6\n",
       "4    5\n",
       "Name: quality, dtype: int64"
      ]
     },
     "execution_count": 58,
     "metadata": {},
     "output_type": "execute_result"
    }
   ],
   "source": [
    "y.head()"
   ]
  },
  {
   "cell_type": "code",
   "execution_count": 59,
   "id": "f890a31b",
   "metadata": {},
   "outputs": [],
   "source": [
    "from sklearn.model_selection import train_test_split"
   ]
  },
  {
   "cell_type": "code",
   "execution_count": 60,
   "id": "26061016",
   "metadata": {},
   "outputs": [
    {
     "name": "stdout",
     "output_type": "stream",
     "text": [
      "(1119, 11)\n",
      "(480, 11)\n",
      "(1119,)\n",
      "(480,)\n"
     ]
    }
   ],
   "source": [
    "x_train, x_test, y_train, y_test = train_test_split(x,y,test_size=0.30)    \n",
    "print(x_train.shape)                                                       \n",
    "print(x_test.shape)\n",
    "print(y_train.shape)\n",
    "print(y_test.shape)"
   ]
  },
  {
   "cell_type": "code",
   "execution_count": 61,
   "id": "946b3c38",
   "metadata": {},
   "outputs": [],
   "source": [
    "from sklearn.metrics import confusion_matrix,classification_report,accuracy_score"
   ]
  },
  {
   "cell_type": "code",
   "execution_count": 62,
   "id": "b134eb55",
   "metadata": {},
   "outputs": [],
   "source": [
    "def gen_metrics(ytest,ypred):\n",
    "    cm = confusion_matrix(ytest,ypred)\n",
    "    print('Confusion Matrix = \\n',cm)\n",
    "    print('Classification Report = \\n',classification_report(ytest,ypred,zero_division=0))\n",
    "    \n",
    "def tt_score(model):\n",
    "    print('Training Score = ', model.score(x_train,y_train))\n",
    "    print('Testing Score = ', model.score(x_test,y_test))"
   ]
  },
  {
   "cell_type": "markdown",
   "id": "20dd92f2",
   "metadata": {},
   "source": [
    "### 1) LogisticReg"
   ]
  },
  {
   "cell_type": "code",
   "execution_count": 63,
   "id": "33e5d3ca",
   "metadata": {},
   "outputs": [],
   "source": [
    "from sklearn.linear_model import LogisticRegression"
   ]
  },
  {
   "cell_type": "code",
   "execution_count": 64,
   "id": "e8d4a584",
   "metadata": {},
   "outputs": [
    {
     "data": {
      "text/plain": [
       "LogisticRegression(max_iter=1000, solver='liblinear')"
      ]
     },
     "execution_count": 64,
     "metadata": {},
     "output_type": "execute_result"
    }
   ],
   "source": [
    "m1 = LogisticRegression(max_iter=1000,solver='liblinear')\n",
    "m1.fit(x_train,y_train)"
   ]
  },
  {
   "cell_type": "code",
   "execution_count": 65,
   "id": "8ff7727b",
   "metadata": {},
   "outputs": [
    {
     "name": "stdout",
     "output_type": "stream",
     "text": [
      "Training Score =  0.5746201966041108\n",
      "Testing Score =  0.59375\n"
     ]
    }
   ],
   "source": [
    "tt_score(m1)"
   ]
  },
  {
   "cell_type": "code",
   "execution_count": 66,
   "id": "de45ef6a",
   "metadata": {},
   "outputs": [
    {
     "name": "stdout",
     "output_type": "stream",
     "text": [
      "[5 6 6 5 5 6 6 5 5 5 5 5 6 5 5 6 6 5 5 5 6 6 6 5 5 5 6 6 6 5 5 5 5 6 5 6 6\n",
      " 6 5 5 6 5 5 6 6 6 6 5 6 6 5 5 7 5 5 5 5 5 6 5 6 5 5 6 6 6 5 6 6 5 5 6 6 5\n",
      " 6 6 6 5 5 5 6 6 5 5 5 5 5 5 5 5 6 5 6 6 6 6 6 5 5 6 7 5 6 6 6 5 5 6 5 6 6\n",
      " 5 6 5 5 5 5 6 5 6 5 5 5 6 6 5 6 6 6 5 5 5 5 5 5 6 5 6 5 5 5 6 5 5 6 5 6 5\n",
      " 6 5 5 5 5 5 6 5 5 5 5 6 6 5 6 5 6 6 6 5 6 5 5 6 5 5 6 5 5 6 6 6 6 6 5 6 6\n",
      " 5 5 6 6 6 5 5 5 6 5 5 6 5 6 5 5 6 5 6 5 5 5 5 5 6 6 6 6 5 6 6 6 6 5 5 6 5\n",
      " 5 5 5 5 5 7 5 6 6 5 6 6 6 6 6 6 6 6 5 6 5 6 5 5 5 6 5 5 6 6 5 6 5 6 6 6 6\n",
      " 5 6 5 6 5 5 5 5 5 6 6 5 6 5 5 6 6 6 5 5 6 7 5 6 6 5 6 5 6 5 5 5 5 6 5 5 6\n",
      " 6 5 6 5 5 5 5 5 6 6 5 6 6 6 5 5 6 5 5 5 6 5 5 5 5 6 5 5 5 5 6 5 5 6 5 5 5\n",
      " 5 5 5 5 6 5 6 6 6 6 5 6 6 5 5 5 5 5 5 5 5 5 6 6 6 5 6 5 5 5 5 5 6 6 6 6 6\n",
      " 5 6 7 6 5 5 6 6 5 6 5 6 5 5 6 6 6 6 6 5 5 5 5 6 5 6 5 6 6 5 6 5 5 6 5 5 5\n",
      " 6 6 5 5 6 5 5 6 6 5 5 5 6 6 6 6 6 5 6 6 6 6 6 6 5 5 6 5 5 5 6 5 5 6 5 5 6\n",
      " 5 5 5 5 6 5 6 5 5 6 6 6 6 6 5 6 5 6 5 5 6 6 5 5 5 5 6 6 6 5 5 6 6 5 6 5]\n"
     ]
    }
   ],
   "source": [
    "ypred_m1 = m1.predict(x_test)\n",
    "print(ypred_m1)"
   ]
  },
  {
   "cell_type": "code",
   "execution_count": 67,
   "id": "c32e0310",
   "metadata": {},
   "outputs": [
    {
     "name": "stdout",
     "output_type": "stream",
     "text": [
      "Confusion Matrix = \n",
      " [[  0   0   2   0   0   0]\n",
      " [  0   0  11   2   0   0]\n",
      " [  0   0 165  30   0   0]\n",
      " [  0   0  79 119   2   0]\n",
      " [  0   0   2  62   1   0]\n",
      " [  0   0   0   3   2   0]]\n",
      "Classification Report = \n",
      "               precision    recall  f1-score   support\n",
      "\n",
      "           3       0.00      0.00      0.00         2\n",
      "           4       0.00      0.00      0.00        13\n",
      "           5       0.64      0.85      0.73       195\n",
      "           6       0.55      0.59      0.57       200\n",
      "           7       0.20      0.02      0.03        65\n",
      "           8       0.00      0.00      0.00         5\n",
      "\n",
      "    accuracy                           0.59       480\n",
      "   macro avg       0.23      0.24      0.22       480\n",
      "weighted avg       0.52      0.59      0.54       480\n",
      "\n"
     ]
    }
   ],
   "source": [
    "gen_metrics(y_test,ypred_m1)"
   ]
  },
  {
   "cell_type": "markdown",
   "id": "ea750112",
   "metadata": {},
   "source": [
    "### 2) Decision Tree"
   ]
  },
  {
   "cell_type": "code",
   "execution_count": 68,
   "id": "5ceee9ba",
   "metadata": {},
   "outputs": [],
   "source": [
    "from sklearn.tree import DecisionTreeClassifier"
   ]
  },
  {
   "cell_type": "code",
   "execution_count": 69,
   "id": "72bed85d",
   "metadata": {},
   "outputs": [
    {
     "data": {
      "text/plain": [
       "DecisionTreeClassifier(criterion='entropy', max_depth=15)"
      ]
     },
     "execution_count": 69,
     "metadata": {},
     "output_type": "execute_result"
    }
   ],
   "source": [
    "m2 = DecisionTreeClassifier(criterion='entropy',max_depth=15)\n",
    "m2.fit(x_train,y_train)"
   ]
  },
  {
   "cell_type": "code",
   "execution_count": 70,
   "id": "53215891",
   "metadata": {},
   "outputs": [
    {
     "name": "stdout",
     "output_type": "stream",
     "text": [
      "Training Score =  0.9991063449508489\n",
      "Testing Score =  0.6125\n"
     ]
    }
   ],
   "source": [
    "tt_score(m2)"
   ]
  },
  {
   "cell_type": "code",
   "execution_count": 71,
   "id": "bc623398",
   "metadata": {},
   "outputs": [
    {
     "name": "stdout",
     "output_type": "stream",
     "text": [
      "[5 7 6 5 6 6 7 5 5 6 5 5 7 7 5 6 6 6 5 5 7 6 6 5 5 5 6 7 8 6 5 6 5 7 6 6 6\n",
      " 6 6 5 7 3 5 6 6 7 6 4 6 5 5 5 6 5 6 5 5 5 6 7 7 4 5 6 5 7 5 7 5 5 5 6 6 4\n",
      " 5 7 6 5 5 5 7 5 6 6 5 5 6 5 5 4 6 5 5 6 6 6 6 5 5 7 6 5 7 5 6 5 6 6 6 6 7\n",
      " 5 6 5 5 6 5 6 5 8 5 6 5 6 6 5 6 6 6 5 5 6 5 5 4 6 5 6 5 5 6 5 5 5 6 5 7 5\n",
      " 6 6 6 4 4 5 8 5 6 6 5 7 7 4 5 5 6 7 7 5 5 6 6 6 5 5 5 5 5 7 7 7 7 7 5 6 6\n",
      " 5 5 7 6 6 5 5 5 6 6 6 7 5 6 6 5 8 5 6 5 5 8 6 6 6 7 6 6 5 7 5 7 7 5 5 7 5\n",
      " 5 5 5 5 5 7 6 6 6 6 5 6 5 7 8 7 6 7 5 6 6 6 6 6 5 8 6 5 7 7 5 6 5 6 6 6 4\n",
      " 6 6 6 6 5 5 5 5 5 7 6 5 6 6 5 5 5 7 6 5 5 6 5 6 6 6 6 5 6 5 6 5 6 6 5 5 6\n",
      " 7 5 7 4 5 5 5 5 6 4 4 6 8 5 5 5 7 3 4 5 5 6 5 4 5 6 4 6 6 6 6 6 5 6 6 5 4\n",
      " 5 5 5 6 8 5 6 6 6 6 5 6 6 5 5 5 5 8 5 4 5 5 7 6 6 6 6 5 5 5 4 6 6 6 6 6 6\n",
      " 5 6 7 5 5 5 6 6 5 7 7 5 5 6 6 6 5 6 6 5 6 5 5 7 5 7 5 5 6 5 6 5 6 7 6 6 6\n",
      " 6 6 5 5 5 5 5 5 6 6 5 6 5 5 7 6 6 5 8 6 6 6 6 6 5 5 5 6 6 5 5 6 5 5 5 6 6\n",
      " 5 5 5 5 6 5 6 6 5 6 6 6 6 6 5 8 5 6 5 5 6 5 5 5 6 6 6 6 7 5 6 6 6 7 7 5]\n"
     ]
    }
   ],
   "source": [
    "ypred_m2 = m2.predict(x_test)\n",
    "print(ypred_m2)"
   ]
  },
  {
   "cell_type": "code",
   "execution_count": 72,
   "id": "c916d873",
   "metadata": {},
   "outputs": [
    {
     "name": "stdout",
     "output_type": "stream",
     "text": [
      "Confusion Matrix = \n",
      " [[  0   0   2   0   0   0]\n",
      " [  0   3   5   5   0   0]\n",
      " [  2  12 143  35   2   1]\n",
      " [  0   3  48 118  25   6]\n",
      " [  0   0   2  30  29   4]\n",
      " [  0   0   0   3   1   1]]\n",
      "Classification Report = \n",
      "               precision    recall  f1-score   support\n",
      "\n",
      "           3       0.00      0.00      0.00         2\n",
      "           4       0.17      0.23      0.19        13\n",
      "           5       0.71      0.73      0.72       195\n",
      "           6       0.62      0.59      0.60       200\n",
      "           7       0.51      0.45      0.48        65\n",
      "           8       0.08      0.20      0.12         5\n",
      "\n",
      "    accuracy                           0.61       480\n",
      "   macro avg       0.35      0.37      0.35       480\n",
      "weighted avg       0.62      0.61      0.62       480\n",
      "\n"
     ]
    }
   ],
   "source": [
    "gen_metrics(y_test,ypred_m2)"
   ]
  },
  {
   "cell_type": "markdown",
   "id": "d2e4ab4c",
   "metadata": {},
   "source": [
    "### 3) KNN"
   ]
  },
  {
   "cell_type": "code",
   "execution_count": 73,
   "id": "0fd7f301",
   "metadata": {},
   "outputs": [],
   "source": [
    "from sklearn.neighbors import KNeighborsClassifier"
   ]
  },
  {
   "cell_type": "code",
   "execution_count": 74,
   "id": "618fbbd1",
   "metadata": {},
   "outputs": [
    {
     "data": {
      "text/plain": [
       "KNeighborsClassifier(n_neighbors=25)"
      ]
     },
     "execution_count": 74,
     "metadata": {},
     "output_type": "execute_result"
    }
   ],
   "source": [
    "m3 = KNeighborsClassifier(n_neighbors=25)\n",
    "m3.fit(x_train,y_train)"
   ]
  },
  {
   "cell_type": "code",
   "execution_count": 75,
   "id": "786ef5b6",
   "metadata": {},
   "outputs": [
    {
     "name": "stdout",
     "output_type": "stream",
     "text": [
      "Training Score =  0.548704200178731\n",
      "Testing Score =  0.5395833333333333\n"
     ]
    }
   ],
   "source": [
    "tt_score(m3)"
   ]
  },
  {
   "cell_type": "code",
   "execution_count": 76,
   "id": "ac85a7ac",
   "metadata": {},
   "outputs": [
    {
     "name": "stdout",
     "output_type": "stream",
     "text": [
      "[5 6 7 5 6 5 5 6 5 6 5 5 5 6 6 5 6 6 5 5 5 6 6 6 5 5 6 6 6 5 5 5 6 6 6 5 5\n",
      " 6 5 5 6 5 5 5 5 6 5 5 6 5 5 5 6 5 6 5 5 5 5 5 7 5 5 6 5 6 5 6 5 5 5 6 6 6\n",
      " 6 5 6 6 6 5 5 5 5 6 5 5 5 5 6 5 5 5 5 6 6 5 6 5 5 6 7 5 6 6 5 5 5 6 5 6 6\n",
      " 5 5 5 5 5 5 6 5 5 5 5 5 6 6 5 5 7 6 5 5 6 5 6 6 6 5 6 5 5 6 5 5 5 6 5 6 5\n",
      " 5 5 6 6 5 5 5 5 5 5 5 5 6 5 6 5 5 5 6 5 5 6 5 5 5 5 6 5 5 5 6 6 6 5 5 7 5\n",
      " 6 5 6 6 5 5 5 6 6 5 5 6 5 5 5 5 6 5 5 5 5 6 5 6 6 5 6 6 5 6 5 5 6 5 6 6 5\n",
      " 5 6 5 5 5 6 5 6 6 5 6 6 5 6 6 6 6 5 5 5 5 5 6 6 5 5 5 5 5 6 5 6 5 6 6 6 5\n",
      " 6 5 5 6 6 5 6 5 5 6 6 6 5 5 5 5 6 5 6 5 6 7 5 6 6 5 6 5 6 5 5 6 5 6 5 5 5\n",
      " 7 6 6 6 5 5 5 5 6 5 5 6 6 6 5 5 5 5 5 6 5 6 5 6 5 6 6 6 5 5 6 5 5 6 5 5 5\n",
      " 5 5 5 5 6 5 5 6 6 5 6 6 5 5 5 5 5 5 5 6 5 5 6 6 5 5 6 5 5 5 5 5 5 5 5 5 5\n",
      " 5 5 6 5 6 5 6 6 5 7 5 6 5 5 5 7 6 5 5 5 5 5 5 5 5 5 5 6 6 5 6 5 5 6 5 5 6\n",
      " 6 6 5 5 6 5 5 5 5 6 5 6 6 6 5 6 7 5 6 5 5 5 6 6 5 5 5 5 5 5 6 5 6 6 5 6 5\n",
      " 5 5 5 5 5 6 6 6 5 5 6 6 5 5 5 5 5 6 5 6 5 5 5 5 6 5 5 6 6 5 5 6 6 5 7 5]\n"
     ]
    }
   ],
   "source": [
    "ypred_m3 = m3.predict(x_test)\n",
    "print(ypred_m3)"
   ]
  },
  {
   "cell_type": "code",
   "execution_count": 77,
   "id": "ff22320b",
   "metadata": {},
   "outputs": [
    {
     "name": "stdout",
     "output_type": "stream",
     "text": [
      "Confusion Matrix = \n",
      " [[  0   0   2   0   0   0]\n",
      " [  0   0   9   3   1   0]\n",
      " [  0   0 155  40   0   0]\n",
      " [  0   0 101  97   2   0]\n",
      " [  0   0  24  34   7   0]\n",
      " [  0   0   1   3   1   0]]\n",
      "Classification Report = \n",
      "               precision    recall  f1-score   support\n",
      "\n",
      "           3       0.00      0.00      0.00         2\n",
      "           4       0.00      0.00      0.00        13\n",
      "           5       0.53      0.79      0.64       195\n",
      "           6       0.55      0.48      0.51       200\n",
      "           7       0.64      0.11      0.18        65\n",
      "           8       0.00      0.00      0.00         5\n",
      "\n",
      "    accuracy                           0.54       480\n",
      "   macro avg       0.29      0.23      0.22       480\n",
      "weighted avg       0.53      0.54      0.50       480\n",
      "\n"
     ]
    }
   ],
   "source": [
    "gen_metrics(y_test,ypred_m3)"
   ]
  },
  {
   "cell_type": "markdown",
   "id": "41bca547",
   "metadata": {},
   "source": [
    "### 4) SVM"
   ]
  },
  {
   "cell_type": "code",
   "execution_count": 78,
   "id": "021ccc16",
   "metadata": {},
   "outputs": [],
   "source": [
    "from sklearn.svm import SVC"
   ]
  },
  {
   "cell_type": "code",
   "execution_count": 79,
   "id": "4356065b",
   "metadata": {},
   "outputs": [
    {
     "data": {
      "text/plain": [
       "SVC(C=100, degree=4, kernel='poly')"
      ]
     },
     "execution_count": 79,
     "metadata": {},
     "output_type": "execute_result"
    }
   ],
   "source": [
    "m4 = SVC(kernel='poly',C=100,degree=4)\n",
    "m4.fit(x_train,y_train)"
   ]
  },
  {
   "cell_type": "code",
   "execution_count": 80,
   "id": "9cfb3fb0",
   "metadata": {},
   "outputs": [
    {
     "name": "stdout",
     "output_type": "stream",
     "text": [
      "Training Score =  0.5549597855227882\n",
      "Testing Score =  0.5875\n"
     ]
    }
   ],
   "source": [
    "tt_score(m4)"
   ]
  },
  {
   "cell_type": "code",
   "execution_count": 81,
   "id": "2c973a9a",
   "metadata": {},
   "outputs": [
    {
     "name": "stdout",
     "output_type": "stream",
     "text": [
      "[5 5 5 5 6 6 6 6 5 6 5 5 6 6 6 6 6 5 5 5 6 6 6 5 6 5 6 6 6 5 5 5 5 6 6 6 6\n",
      " 6 5 5 5 6 5 5 5 6 5 5 6 6 5 5 6 5 5 5 5 5 6 6 6 5 5 6 6 6 5 6 6 6 5 6 6 5\n",
      " 5 6 6 5 6 5 6 6 5 6 6 6 5 5 6 5 5 5 6 6 6 6 6 5 5 6 6 5 6 6 6 5 5 5 6 6 6\n",
      " 5 6 5 5 5 5 6 5 6 5 5 5 6 6 5 6 6 6 5 5 6 5 5 5 6 5 6 5 5 6 6 5 5 6 5 6 5\n",
      " 5 5 6 6 5 5 7 5 5 5 5 6 6 5 5 5 6 6 6 5 6 5 5 6 5 5 6 5 5 6 6 6 5 6 5 5 6\n",
      " 5 5 6 6 6 5 5 6 5 6 5 6 6 5 6 5 6 5 6 5 5 6 6 6 6 6 5 6 5 6 5 6 6 5 5 6 5\n",
      " 5 6 6 5 5 6 5 5 5 5 6 6 5 6 6 6 6 6 5 5 5 6 5 6 5 6 6 5 6 6 5 6 5 6 6 5 5\n",
      " 5 6 5 6 5 5 5 5 5 6 6 6 6 5 5 5 5 6 6 6 6 6 5 6 6 5 6 5 6 5 5 5 6 6 5 5 6\n",
      " 6 6 6 6 5 5 5 6 6 5 6 5 6 6 5 5 6 5 6 6 6 6 5 6 5 6 6 6 5 5 6 5 5 6 6 5 5\n",
      " 5 5 5 6 6 5 5 6 6 6 5 6 5 5 5 5 5 6 5 5 5 6 6 6 6 5 6 5 5 5 5 5 6 7 6 6 6\n",
      " 5 6 6 5 5 5 6 5 5 5 6 6 5 5 5 6 6 6 6 5 5 5 5 6 5 6 5 6 6 5 6 5 5 6 5 6 6\n",
      " 6 6 5 5 6 5 5 5 6 5 5 5 6 6 6 6 6 5 6 5 6 6 6 6 5 5 7 5 5 5 6 6 5 6 5 5 6\n",
      " 5 5 5 5 5 6 6 6 5 5 5 6 6 5 5 7 5 6 6 5 6 5 5 5 5 5 6 6 6 5 5 6 6 5 5 5]\n"
     ]
    }
   ],
   "source": [
    "ypred_m4 = m4.predict(x_test)\n",
    "print(ypred_m4)"
   ]
  },
  {
   "cell_type": "code",
   "execution_count": 82,
   "id": "f034cebd",
   "metadata": {},
   "outputs": [
    {
     "name": "stdout",
     "output_type": "stream",
     "text": [
      "Confusion Matrix = \n",
      " [[  0   0   2   0   0   0]\n",
      " [  0   0  11   2   0   0]\n",
      " [  0   0 149  45   1   0]\n",
      " [  0   0  69 131   0   0]\n",
      " [  0   0  13  50   2   0]\n",
      " [  0   0   0   4   1   0]]\n",
      "Classification Report = \n",
      "               precision    recall  f1-score   support\n",
      "\n",
      "           3       0.00      0.00      0.00         2\n",
      "           4       0.00      0.00      0.00        13\n",
      "           5       0.61      0.76      0.68       195\n",
      "           6       0.56      0.66      0.61       200\n",
      "           7       0.50      0.03      0.06        65\n",
      "           8       0.00      0.00      0.00         5\n",
      "\n",
      "    accuracy                           0.59       480\n",
      "   macro avg       0.28      0.24      0.22       480\n",
      "weighted avg       0.55      0.59      0.54       480\n",
      "\n"
     ]
    }
   ],
   "source": [
    "gen_metrics(y_test,ypred_m4)"
   ]
  },
  {
   "cell_type": "markdown",
   "id": "78239d23",
   "metadata": {},
   "source": [
    "### 5) RandomForestClassifier"
   ]
  },
  {
   "cell_type": "code",
   "execution_count": 83,
   "id": "3d7ecc34",
   "metadata": {},
   "outputs": [],
   "source": [
    "from sklearn.ensemble import RandomForestClassifier"
   ]
  },
  {
   "cell_type": "code",
   "execution_count": 84,
   "id": "a3a8db66",
   "metadata": {},
   "outputs": [
    {
     "data": {
      "text/plain": [
       "RandomForestClassifier(max_depth=9, n_estimators=80)"
      ]
     },
     "execution_count": 84,
     "metadata": {},
     "output_type": "execute_result"
    }
   ],
   "source": [
    "m5 = RandomForestClassifier(n_estimators=80,criterion='gini',max_depth=9)\n",
    "m5.fit(x_train,y_train)"
   ]
  },
  {
   "cell_type": "code",
   "execution_count": 85,
   "id": "95b56b86",
   "metadata": {},
   "outputs": [
    {
     "name": "stdout",
     "output_type": "stream",
     "text": [
      "Training Score =  0.9133154602323503\n",
      "Testing Score =  0.7041666666666667\n"
     ]
    }
   ],
   "source": [
    "tt_score(m5)"
   ]
  },
  {
   "cell_type": "code",
   "execution_count": 86,
   "id": "f741dd7f",
   "metadata": {},
   "outputs": [
    {
     "name": "stdout",
     "output_type": "stream",
     "text": [
      "[6 6 6 5 5 6 7 5 5 6 5 5 6 5 5 5 6 6 5 5 6 6 6 5 5 5 6 6 6 6 5 5 5 7 6 5 6\n",
      " 6 5 5 7 6 5 6 6 7 6 5 6 6 5 5 6 5 5 5 5 5 6 7 6 6 5 6 6 6 5 7 6 5 5 6 6 5\n",
      " 5 7 6 5 5 5 7 5 5 5 6 5 5 5 5 5 6 5 5 6 6 6 5 5 5 7 7 5 7 5 6 5 6 6 6 6 7\n",
      " 5 5 5 5 5 5 6 5 6 5 6 5 6 6 5 6 6 6 5 5 5 5 5 6 6 5 6 5 5 6 5 5 5 6 5 6 5\n",
      " 6 5 5 5 5 5 7 5 6 5 5 7 6 5 5 5 6 7 7 5 6 5 5 6 5 5 6 6 5 6 6 7 7 6 5 6 6\n",
      " 5 5 6 6 6 5 5 5 6 5 5 6 5 6 5 5 6 5 7 5 5 6 6 6 6 7 6 6 5 7 6 7 6 5 5 7 5\n",
      " 5 5 5 6 5 7 5 6 6 5 6 6 6 6 6 7 6 6 5 6 5 6 6 5 5 6 6 5 6 7 5 6 5 6 6 6 6\n",
      " 5 6 5 6 5 5 5 5 5 7 6 5 6 6 5 5 5 6 5 5 6 6 5 6 6 6 5 5 6 5 5 5 6 6 5 5 6\n",
      " 6 5 6 5 5 5 5 5 6 6 5 6 6 5 5 5 6 5 5 5 5 6 5 4 5 6 5 5 5 6 6 5 5 6 6 5 5\n",
      " 5 5 5 5 6 5 5 6 6 6 5 6 6 5 6 5 5 5 5 6 5 5 7 6 6 5 6 5 5 5 5 5 7 7 6 6 6\n",
      " 5 6 7 5 5 5 6 5 5 7 5 6 5 5 6 7 6 6 6 5 6 5 5 6 5 7 5 5 6 5 6 5 6 7 6 6 6\n",
      " 6 6 5 5 5 5 5 6 6 6 5 5 6 5 7 6 6 5 7 6 6 6 6 6 5 5 5 6 5 5 6 5 5 5 5 5 6\n",
      " 5 5 5 5 6 5 6 6 5 6 6 7 6 6 5 6 5 6 6 5 6 6 5 5 6 6 6 6 6 5 5 6 6 5 7 5]\n"
     ]
    }
   ],
   "source": [
    "ypred_m5 = m5.predict(x_test)\n",
    "print(ypred_m5)"
   ]
  },
  {
   "cell_type": "code",
   "execution_count": 87,
   "id": "cf734fdf",
   "metadata": {},
   "outputs": [
    {
     "name": "stdout",
     "output_type": "stream",
     "text": [
      "Counter({5: 240, 6: 200, 7: 39, 4: 1})\n"
     ]
    }
   ],
   "source": [
    "from collections import Counter\n",
    "c1 = Counter(ypred_m5)\n",
    "print(c1)"
   ]
  },
  {
   "cell_type": "code",
   "execution_count": 88,
   "id": "32af6c03",
   "metadata": {},
   "outputs": [
    {
     "name": "stdout",
     "output_type": "stream",
     "text": [
      "Confusion Matrix = \n",
      " [[  0   0   2   0   0   0]\n",
      " [  0   0  10   3   0   0]\n",
      " [  0   0 175  20   0   0]\n",
      " [  0   1  51 137  11   0]\n",
      " [  0   0   2  37  26   0]\n",
      " [  0   0   0   3   2   0]]\n",
      "Classification Report = \n",
      "               precision    recall  f1-score   support\n",
      "\n",
      "           3       0.00      0.00      0.00         2\n",
      "           4       0.00      0.00      0.00        13\n",
      "           5       0.73      0.90      0.80       195\n",
      "           6       0.69      0.69      0.69       200\n",
      "           7       0.67      0.40      0.50        65\n",
      "           8       0.00      0.00      0.00         5\n",
      "\n",
      "    accuracy                           0.70       480\n",
      "   macro avg       0.35      0.33      0.33       480\n",
      "weighted avg       0.67      0.70      0.68       480\n",
      "\n"
     ]
    }
   ],
   "source": [
    "gen_metrics(y_test,ypred_m5)"
   ]
  },
  {
   "cell_type": "markdown",
   "id": "95b6602c",
   "metadata": {},
   "source": [
    "### Thus, RandomForestClassifier is the best model for classifying wine quality because it has the highest accuracy compared to other models."
   ]
  },
  {
   "cell_type": "markdown",
   "id": "839bc2d2",
   "metadata": {},
   "source": [
    "\n",
    "\n",
    "\n",
    "\n",
    "<br>\n",
    "<br>\n",
    "\n",
    "\n",
    "\n",
    "# Let's create a function to handle any model\n",
    "\n",
    "<br>\n",
    "\n"
   ]
  },
  {
   "cell_type": "code",
   "execution_count": 93,
   "id": "a546141b",
   "metadata": {},
   "outputs": [],
   "source": [
    "def model_perf(model,x_train,x_test,y_train,y_test):\n",
    "    model.fit(x_train,y_train)\n",
    "    ypred = model.predict(x_test)\n",
    "    print(ypred)\n",
    "    cm = confusion_matrix(y_test,ypred)\n",
    "    print('Confusion Matrix = \\n',cm)\n",
    "    print('Classification Report = \\n',classification_report(y_test,ypred,zero_division=0))\n",
    "    print('Accuracy Score = ',accuracy_score(y_test,ypred))\n",
    "    print('Training Score = ', model.score(x_train,y_train))\n",
    "    print('Testing Score = ', model.score(x_test,y_test))"
   ]
  },
  {
   "cell_type": "code",
   "execution_count": 94,
   "id": "20a6a2b0",
   "metadata": {},
   "outputs": [
    {
     "name": "stdout",
     "output_type": "stream",
     "text": [
      "[5 6 6 5 5 6 6 5 5 5 5 5 6 5 5 6 6 5 5 5 6 6 6 5 5 5 6 6 6 5 5 5 5 6 5 6 6\n",
      " 6 5 5 6 5 5 6 6 6 6 5 6 6 5 5 7 5 5 5 5 5 6 5 6 5 5 6 6 6 5 6 6 5 5 6 6 5\n",
      " 6 6 6 5 5 5 6 6 5 5 5 5 5 5 5 5 6 5 6 6 6 6 6 5 5 6 7 5 6 6 6 5 5 6 5 6 6\n",
      " 5 6 5 5 5 5 6 5 6 5 5 5 6 6 5 6 6 6 5 5 5 5 5 5 6 5 6 5 5 5 6 5 5 6 5 6 5\n",
      " 6 5 5 5 5 5 6 5 5 5 5 6 6 5 6 5 6 6 6 5 6 5 5 6 5 5 6 5 5 6 6 6 6 6 5 6 6\n",
      " 5 5 6 6 6 5 5 5 6 5 5 6 5 6 5 5 6 5 6 5 5 5 5 5 6 6 6 6 5 6 6 6 6 5 5 6 5\n",
      " 5 5 5 5 5 7 5 6 6 5 6 6 6 6 6 6 6 6 5 6 5 6 5 5 5 6 5 5 6 6 5 6 5 6 6 6 6\n",
      " 5 6 5 6 5 5 5 5 5 6 6 5 6 5 5 6 6 6 5 5 6 7 5 6 6 5 6 5 6 5 5 5 5 6 5 5 6\n",
      " 6 5 6 5 5 5 5 5 6 6 5 6 6 6 5 5 6 5 5 5 6 5 5 5 5 6 5 5 5 5 6 5 5 6 5 5 5\n",
      " 5 5 5 5 6 5 6 6 6 6 5 6 6 5 5 5 5 5 5 5 5 5 6 6 6 5 6 5 5 5 5 5 6 6 6 6 6\n",
      " 5 6 7 6 5 5 6 6 5 6 5 6 5 5 6 6 6 6 6 5 5 5 5 6 5 6 5 6 6 5 6 5 5 6 5 5 5\n",
      " 6 6 5 5 6 5 5 6 6 5 5 5 6 6 6 6 6 5 6 6 6 6 6 6 5 5 6 5 5 5 6 5 5 6 5 5 6\n",
      " 5 5 5 5 6 5 6 5 5 6 6 6 6 6 5 6 5 6 5 5 6 6 5 5 5 5 6 6 6 5 5 6 6 5 6 5]\n",
      "Confusion Matrix = \n",
      " [[  0   0   2   0   0   0]\n",
      " [  0   0  11   2   0   0]\n",
      " [  0   0 165  30   0   0]\n",
      " [  0   0  79 119   2   0]\n",
      " [  0   0   2  62   1   0]\n",
      " [  0   0   0   3   2   0]]\n",
      "Classification Report = \n",
      "               precision    recall  f1-score   support\n",
      "\n",
      "           3       0.00      0.00      0.00         2\n",
      "           4       0.00      0.00      0.00        13\n",
      "           5       0.64      0.85      0.73       195\n",
      "           6       0.55      0.59      0.57       200\n",
      "           7       0.20      0.02      0.03        65\n",
      "           8       0.00      0.00      0.00         5\n",
      "\n",
      "    accuracy                           0.59       480\n",
      "   macro avg       0.23      0.24      0.22       480\n",
      "weighted avg       0.52      0.59      0.54       480\n",
      "\n",
      "Accuracy Score =  0.59375\n",
      "Training Score =  0.5746201966041108\n",
      "Testing Score =  0.59375\n"
     ]
    }
   ],
   "source": [
    "w1 = LogisticRegression(max_iter=1000,solver='liblinear')\n",
    "model_perf(w1,x_train,x_test,y_train,y_test)"
   ]
  },
  {
   "cell_type": "code",
   "execution_count": 95,
   "id": "5b078c2b",
   "metadata": {},
   "outputs": [
    {
     "name": "stdout",
     "output_type": "stream",
     "text": [
      "[6 7 7 5 5 6 6 6 5 6 5 5 6 5 5 6 6 6 5 5 6 6 7 5 5 5 6 6 8 5 5 6 6 7 6 5 6\n",
      " 6 5 6 7 6 5 5 6 7 6 5 6 5 6 5 8 6 6 5 5 5 6 7 5 6 5 6 5 6 6 7 6 5 5 6 6 5\n",
      " 5 7 6 5 5 6 7 5 6 6 5 5 6 5 5 7 6 5 6 6 6 6 6 6 5 8 7 5 3 6 6 5 6 6 5 6 7\n",
      " 6 6 5 5 6 5 6 5 7 5 6 5 6 6 5 6 7 6 5 5 6 5 6 6 7 5 6 5 6 6 5 6 5 6 5 6 6\n",
      " 6 6 6 5 7 5 7 5 6 6 6 6 6 5 6 5 6 7 6 5 5 5 5 6 5 5 5 6 5 6 6 7 6 6 5 7 6\n",
      " 6 6 6 6 6 5 4 5 6 5 6 6 6 5 6 5 8 5 7 5 5 5 6 6 6 7 6 6 6 6 6 7 6 5 5 7 5\n",
      " 6 6 5 6 6 7 5 6 6 5 6 6 6 6 6 6 6 6 5 6 6 6 6 6 5 8 5 5 6 7 5 6 5 5 6 6 5\n",
      " 5 6 6 6 5 5 5 5 5 6 6 6 7 6 5 5 5 6 6 5 5 6 5 6 6 6 5 5 6 5 5 5 6 6 5 5 6\n",
      " 7 6 6 5 5 6 5 5 6 5 6 6 6 5 5 6 6 5 5 6 6 6 6 5 5 6 5 5 6 7 6 5 5 6 6 5 5\n",
      " 5 5 5 6 6 5 5 6 6 6 5 5 5 5 6 5 5 5 5 6 5 5 6 6 6 6 6 5 5 5 5 5 7 8 6 6 7\n",
      " 6 7 6 5 5 5 6 5 5 7 5 6 5 6 6 7 6 6 5 4 5 5 5 5 5 6 6 6 5 5 6 5 6 7 6 6 5\n",
      " 6 6 5 5 5 5 5 6 6 5 6 6 6 6 7 6 6 5 6 5 6 6 6 7 5 5 6 6 5 6 5 5 5 6 6 6 6\n",
      " 5 5 5 5 5 5 6 6 6 7 7 6 5 7 6 7 5 6 6 5 6 5 5 5 5 7 5 6 6 4 6 6 6 5 6 5]\n",
      "Confusion Matrix = \n",
      " [[  0   0   2   0   0   0]\n",
      " [  0   0   6   3   4   0]\n",
      " [  0   2 129  60   4   0]\n",
      " [  0   1  55 129  11   4]\n",
      " [  1   0   6  35  23   0]\n",
      " [  0   0   0   2   1   2]]\n",
      "Classification Report = \n",
      "               precision    recall  f1-score   support\n",
      "\n",
      "           3       0.00      0.00      0.00         2\n",
      "           4       0.00      0.00      0.00        13\n",
      "           5       0.65      0.66      0.66       195\n",
      "           6       0.56      0.65      0.60       200\n",
      "           7       0.53      0.35      0.43        65\n",
      "           8       0.33      0.40      0.36         5\n",
      "\n",
      "    accuracy                           0.59       480\n",
      "   macro avg       0.35      0.34      0.34       480\n",
      "weighted avg       0.58      0.59      0.58       480\n",
      "\n",
      "Accuracy Score =  0.5895833333333333\n",
      "Training Score =  0.77390527256479\n",
      "Testing Score =  0.5895833333333333\n"
     ]
    }
   ],
   "source": [
    "w2 = DecisionTreeClassifier(criterion='gini',max_depth=9,min_samples_split=17)\n",
    "model_perf(w2,x_train,x_test,y_train,y_test)"
   ]
  }
 ],
 "metadata": {
  "kernelspec": {
   "display_name": "Python 3 (ipykernel)",
   "language": "python",
   "name": "python3"
  },
  "language_info": {
   "codemirror_mode": {
    "name": "ipython",
    "version": 3
   },
   "file_extension": ".py",
   "mimetype": "text/x-python",
   "name": "python",
   "nbconvert_exporter": "python",
   "pygments_lexer": "ipython3",
   "version": "3.9.12"
  }
 },
 "nbformat": 4,
 "nbformat_minor": 5
}
